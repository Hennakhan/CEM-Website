{
  "nbformat": 4,
  "nbformat_minor": 0,
  "metadata": {
    "colab": {
      "name": "Islamophobia_detection.ipynb",
      "provenance": [],
      "collapsed_sections": [],
      "toc_visible": true,
      "include_colab_link": true
    },
    "kernelspec": {
      "name": "python3",
      "display_name": "Python 3"
    },
    "accelerator": "GPU"
  },
  "cells": [
    {
      "cell_type": "markdown",
      "metadata": {
        "id": "view-in-github",
        "colab_type": "text"
      },
      "source": [
        "<a href=\"https://colab.research.google.com/github/Hennakhan/CEM-Website/blob/master/Islamophobia_detection.ipynb\" target=\"_parent\"><img src=\"https://colab.research.google.com/assets/colab-badge.svg\" alt=\"Open In Colab\"/></a>"
      ]
    },
    {
      "cell_type": "code",
      "metadata": {
        "id": "vr1ssFIS3soG",
        "colab_type": "code",
        "colab": {}
      },
      "source": [
        ""
      ],
      "execution_count": null,
      "outputs": []
    },
    {
      "cell_type": "markdown",
      "metadata": {
        "id": "ROSg9T9EzYDf",
        "colab_type": "text"
      },
      "source": [
        "# Islamophhobia Detection with BERT using Keras and TensorFlow 2"
      ]
    },
    {
      "cell_type": "code",
      "metadata": {
        "id": "LV210YNdrKIi",
        "colab_type": "code",
        "colab": {
          "base_uri": "https://localhost:8080/",
          "height": 353
        },
        "outputId": "0f6390f7-f245-43a2-a54e-bed55c0401e0"
      },
      "source": [
        "!nvidia-smi"
      ],
      "execution_count": null,
      "outputs": [
        {
          "output_type": "stream",
          "text": [
            "Thu Sep 10 13:43:48 2020       \n",
            "+-----------------------------------------------------------------------------+\n",
            "| NVIDIA-SMI 450.66       Driver Version: 418.67       CUDA Version: 10.1     |\n",
            "|-------------------------------+----------------------+----------------------+\n",
            "| GPU  Name        Persistence-M| Bus-Id        Disp.A | Volatile Uncorr. ECC |\n",
            "| Fan  Temp  Perf  Pwr:Usage/Cap|         Memory-Usage | GPU-Util  Compute M. |\n",
            "|                               |                      |               MIG M. |\n",
            "|===============================+======================+======================|\n",
            "|   0  Tesla T4            Off  | 00000000:00:04.0 Off |                    0 |\n",
            "| N/A   51C    P8    10W /  70W |      0MiB / 15079MiB |      0%      Default |\n",
            "|                               |                      |                 ERR! |\n",
            "+-------------------------------+----------------------+----------------------+\n",
            "                                                                               \n",
            "+-----------------------------------------------------------------------------+\n",
            "| Processes:                                                                  |\n",
            "|  GPU   GI   CI        PID   Type   Process name                  GPU Memory |\n",
            "|        ID   ID                                                   Usage      |\n",
            "|=============================================================================|\n",
            "|  No running processes found                                                 |\n",
            "+-----------------------------------------------------------------------------+\n"
          ],
          "name": "stdout"
        }
      ]
    },
    {
      "cell_type": "code",
      "metadata": {
        "id": "WaaST8ILn0oN",
        "colab_type": "code",
        "colab": {
          "base_uri": "https://localhost:8080/",
          "height": 810
        },
        "outputId": "031cf7cd-e9f6-4f77-9e3a-78682db9bf93"
      },
      "source": [
        "!pip install tensorflow-gpu "
      ],
      "execution_count": null,
      "outputs": [
        {
          "output_type": "stream",
          "text": [
            "Collecting tensorflow-gpu\n",
            "\u001b[?25l  Downloading https://files.pythonhosted.org/packages/0f/11/763f55d3d15efd778ef24453f126e6c33635680e5a2bb346da3fab5997cb/tensorflow_gpu-2.3.0-cp36-cp36m-manylinux2010_x86_64.whl (320.4MB)\n",
            "\u001b[K     |████████████████████████████████| 320.4MB 47kB/s \n",
            "\u001b[?25hRequirement already satisfied: six>=1.12.0 in /usr/local/lib/python3.6/dist-packages (from tensorflow-gpu) (1.15.0)\n",
            "Requirement already satisfied: tensorboard<3,>=2.3.0 in /usr/local/lib/python3.6/dist-packages (from tensorflow-gpu) (2.3.0)\n",
            "Requirement already satisfied: scipy==1.4.1 in /usr/local/lib/python3.6/dist-packages (from tensorflow-gpu) (1.4.1)\n",
            "Requirement already satisfied: numpy<1.19.0,>=1.16.0 in /usr/local/lib/python3.6/dist-packages (from tensorflow-gpu) (1.18.5)\n",
            "Requirement already satisfied: wheel>=0.26 in /usr/local/lib/python3.6/dist-packages (from tensorflow-gpu) (0.35.1)\n",
            "Requirement already satisfied: opt-einsum>=2.3.2 in /usr/local/lib/python3.6/dist-packages (from tensorflow-gpu) (3.3.0)\n",
            "Requirement already satisfied: wrapt>=1.11.1 in /usr/local/lib/python3.6/dist-packages (from tensorflow-gpu) (1.12.1)\n",
            "Requirement already satisfied: grpcio>=1.8.6 in /usr/local/lib/python3.6/dist-packages (from tensorflow-gpu) (1.31.0)\n",
            "Requirement already satisfied: protobuf>=3.9.2 in /usr/local/lib/python3.6/dist-packages (from tensorflow-gpu) (3.12.4)\n",
            "Requirement already satisfied: gast==0.3.3 in /usr/local/lib/python3.6/dist-packages (from tensorflow-gpu) (0.3.3)\n",
            "Requirement already satisfied: absl-py>=0.7.0 in /usr/local/lib/python3.6/dist-packages (from tensorflow-gpu) (0.8.1)\n",
            "Requirement already satisfied: h5py<2.11.0,>=2.10.0 in /usr/local/lib/python3.6/dist-packages (from tensorflow-gpu) (2.10.0)\n",
            "Requirement already satisfied: tensorflow-estimator<2.4.0,>=2.3.0 in /usr/local/lib/python3.6/dist-packages (from tensorflow-gpu) (2.3.0)\n",
            "Requirement already satisfied: google-pasta>=0.1.8 in /usr/local/lib/python3.6/dist-packages (from tensorflow-gpu) (0.2.0)\n",
            "Requirement already satisfied: termcolor>=1.1.0 in /usr/local/lib/python3.6/dist-packages (from tensorflow-gpu) (1.1.0)\n",
            "Requirement already satisfied: keras-preprocessing<1.2,>=1.1.1 in /usr/local/lib/python3.6/dist-packages (from tensorflow-gpu) (1.1.2)\n",
            "Requirement already satisfied: astunparse==1.6.3 in /usr/local/lib/python3.6/dist-packages (from tensorflow-gpu) (1.6.3)\n",
            "Requirement already satisfied: werkzeug>=0.11.15 in /usr/local/lib/python3.6/dist-packages (from tensorboard<3,>=2.3.0->tensorflow-gpu) (1.0.1)\n",
            "Requirement already satisfied: google-auth-oauthlib<0.5,>=0.4.1 in /usr/local/lib/python3.6/dist-packages (from tensorboard<3,>=2.3.0->tensorflow-gpu) (0.4.1)\n",
            "Requirement already satisfied: tensorboard-plugin-wit>=1.6.0 in /usr/local/lib/python3.6/dist-packages (from tensorboard<3,>=2.3.0->tensorflow-gpu) (1.7.0)\n",
            "Requirement already satisfied: requests<3,>=2.21.0 in /usr/local/lib/python3.6/dist-packages (from tensorboard<3,>=2.3.0->tensorflow-gpu) (2.23.0)\n",
            "Requirement already satisfied: google-auth<2,>=1.6.3 in /usr/local/lib/python3.6/dist-packages (from tensorboard<3,>=2.3.0->tensorflow-gpu) (1.17.2)\n",
            "Requirement already satisfied: setuptools>=41.0.0 in /usr/local/lib/python3.6/dist-packages (from tensorboard<3,>=2.3.0->tensorflow-gpu) (49.6.0)\n",
            "Requirement already satisfied: markdown>=2.6.8 in /usr/local/lib/python3.6/dist-packages (from tensorboard<3,>=2.3.0->tensorflow-gpu) (3.2.2)\n",
            "Requirement already satisfied: requests-oauthlib>=0.7.0 in /usr/local/lib/python3.6/dist-packages (from google-auth-oauthlib<0.5,>=0.4.1->tensorboard<3,>=2.3.0->tensorflow-gpu) (1.3.0)\n",
            "Requirement already satisfied: chardet<4,>=3.0.2 in /usr/local/lib/python3.6/dist-packages (from requests<3,>=2.21.0->tensorboard<3,>=2.3.0->tensorflow-gpu) (3.0.4)\n",
            "Requirement already satisfied: urllib3!=1.25.0,!=1.25.1,<1.26,>=1.21.1 in /usr/local/lib/python3.6/dist-packages (from requests<3,>=2.21.0->tensorboard<3,>=2.3.0->tensorflow-gpu) (1.24.3)\n",
            "Requirement already satisfied: idna<3,>=2.5 in /usr/local/lib/python3.6/dist-packages (from requests<3,>=2.21.0->tensorboard<3,>=2.3.0->tensorflow-gpu) (2.10)\n",
            "Requirement already satisfied: certifi>=2017.4.17 in /usr/local/lib/python3.6/dist-packages (from requests<3,>=2.21.0->tensorboard<3,>=2.3.0->tensorflow-gpu) (2020.6.20)\n",
            "Requirement already satisfied: pyasn1-modules>=0.2.1 in /usr/local/lib/python3.6/dist-packages (from google-auth<2,>=1.6.3->tensorboard<3,>=2.3.0->tensorflow-gpu) (0.2.8)\n",
            "Requirement already satisfied: rsa<5,>=3.1.4; python_version >= \"3\" in /usr/local/lib/python3.6/dist-packages (from google-auth<2,>=1.6.3->tensorboard<3,>=2.3.0->tensorflow-gpu) (4.6)\n",
            "Requirement already satisfied: cachetools<5.0,>=2.0.0 in /usr/local/lib/python3.6/dist-packages (from google-auth<2,>=1.6.3->tensorboard<3,>=2.3.0->tensorflow-gpu) (4.1.1)\n",
            "Requirement already satisfied: importlib-metadata; python_version < \"3.8\" in /usr/local/lib/python3.6/dist-packages (from markdown>=2.6.8->tensorboard<3,>=2.3.0->tensorflow-gpu) (1.7.0)\n",
            "Requirement already satisfied: oauthlib>=3.0.0 in /usr/local/lib/python3.6/dist-packages (from requests-oauthlib>=0.7.0->google-auth-oauthlib<0.5,>=0.4.1->tensorboard<3,>=2.3.0->tensorflow-gpu) (3.1.0)\n",
            "Requirement already satisfied: pyasn1<0.5.0,>=0.4.6 in /usr/local/lib/python3.6/dist-packages (from pyasn1-modules>=0.2.1->google-auth<2,>=1.6.3->tensorboard<3,>=2.3.0->tensorflow-gpu) (0.4.8)\n",
            "Requirement already satisfied: zipp>=0.5 in /usr/local/lib/python3.6/dist-packages (from importlib-metadata; python_version < \"3.8\"->markdown>=2.6.8->tensorboard<3,>=2.3.0->tensorflow-gpu) (3.1.0)\n",
            "Installing collected packages: tensorflow-gpu\n",
            "Successfully installed tensorflow-gpu-2.3.0\n"
          ],
          "name": "stdout"
        },
        {
          "output_type": "display_data",
          "data": {
            "application/vnd.colab-display-data+json": {
              "pip_warning": {
                "packages": [
                  "tensorflow"
                ]
              }
            }
          },
          "metadata": {
            "tags": []
          }
        }
      ]
    },
    {
      "cell_type": "code",
      "metadata": {
        "id": "WTWu7zZeKhfV",
        "colab_type": "code",
        "colab": {
          "base_uri": "https://localhost:8080/",
          "height": 188
        },
        "outputId": "d59b203d-ae3f-4b57-c638-748975f1a44d"
      },
      "source": [
        "!pip install --upgrade grpcio"
      ],
      "execution_count": null,
      "outputs": [
        {
          "output_type": "stream",
          "text": [
            "Collecting grpcio\n",
            "\u001b[?25l  Downloading https://files.pythonhosted.org/packages/f0/00/b393f5d0e92b37592a41357ea3077010c95400c907f6b9af01f4f6abe140/grpcio-1.32.0-cp36-cp36m-manylinux2014_x86_64.whl (3.8MB)\n",
            "\u001b[K     |████████████████████████████████| 3.8MB 11.1MB/s \n",
            "\u001b[?25hRequirement already satisfied, skipping upgrade: six>=1.5.2 in /usr/local/lib/python3.6/dist-packages (from grpcio) (1.15.0)\n",
            "Installing collected packages: grpcio\n",
            "  Found existing installation: grpcio 1.31.0\n",
            "    Uninstalling grpcio-1.31.0:\n",
            "      Successfully uninstalled grpcio-1.31.0\n",
            "Successfully installed grpcio-1.32.0\n"
          ],
          "name": "stdout"
        }
      ]
    },
    {
      "cell_type": "code",
      "metadata": {
        "id": "zCRkokr-n26J",
        "colab_type": "code",
        "colab": {
          "base_uri": "https://localhost:8080/",
          "height": 34
        },
        "outputId": "19b640be-cc87-4421-9a7c-f22c7e503eb4"
      },
      "source": [
        "!pip install tqdm"
      ],
      "execution_count": null,
      "outputs": [
        {
          "output_type": "stream",
          "text": [
            "Requirement already satisfied: tqdm in /usr/local/lib/python3.6/dist-packages (4.41.1)\n"
          ],
          "name": "stdout"
        }
      ]
    },
    {
      "cell_type": "code",
      "metadata": {
        "id": "-zgaripn6hjX",
        "colab_type": "code",
        "colab": {
          "base_uri": "https://localhost:8080/",
          "height": 406
        },
        "outputId": "e9aed3f1-51b3-4e03-f8f7-e49a5e2beaa0"
      },
      "source": [
        "!pip install bert-for-tf2"
      ],
      "execution_count": null,
      "outputs": [
        {
          "output_type": "stream",
          "text": [
            "Collecting bert-for-tf2\n",
            "\u001b[?25l  Downloading https://files.pythonhosted.org/packages/af/c1/015648a2186b25c6de79d15bec40d3d946fcf1dd5067d1c1b28009506486/bert-for-tf2-0.14.6.tar.gz (40kB)\n",
            "\r\u001b[K     |████████                        | 10kB 21.3MB/s eta 0:00:01\r\u001b[K     |████████████████                | 20kB 27.6MB/s eta 0:00:01\r\u001b[K     |████████████████████████▏       | 30kB 30.7MB/s eta 0:00:01\r\u001b[K     |████████████████████████████████| 40kB 5.6MB/s \n",
            "\u001b[?25hCollecting py-params>=0.9.6\n",
            "  Downloading https://files.pythonhosted.org/packages/a4/bf/c1c70d5315a8677310ea10a41cfc41c5970d9b37c31f9c90d4ab98021fd1/py-params-0.9.7.tar.gz\n",
            "Collecting params-flow>=0.8.0\n",
            "  Downloading https://files.pythonhosted.org/packages/a9/95/ff49f5ebd501f142a6f0aaf42bcfd1c192dc54909d1d9eb84ab031d46056/params-flow-0.8.2.tar.gz\n",
            "Requirement already satisfied: numpy in /usr/local/lib/python3.6/dist-packages (from params-flow>=0.8.0->bert-for-tf2) (1.18.5)\n",
            "Requirement already satisfied: tqdm in /usr/local/lib/python3.6/dist-packages (from params-flow>=0.8.0->bert-for-tf2) (4.41.1)\n",
            "Building wheels for collected packages: bert-for-tf2, py-params, params-flow\n",
            "  Building wheel for bert-for-tf2 (setup.py) ... \u001b[?25l\u001b[?25hdone\n",
            "  Created wheel for bert-for-tf2: filename=bert_for_tf2-0.14.6-cp36-none-any.whl size=30318 sha256=b06fc132273458cdd9e723e0325f86c47cd102e622e390652d9a0108f2117499\n",
            "  Stored in directory: /root/.cache/pip/wheels/07/a0/b4/75b0601ebaa41e517a797fe9cea119c789664c8408f8a74ae9\n",
            "  Building wheel for py-params (setup.py) ... \u001b[?25l\u001b[?25hdone\n",
            "  Created wheel for py-params: filename=py_params-0.9.7-cp36-none-any.whl size=7304 sha256=03a9d41a29a0332e3cb9a165fc15f8e04f376eeca229136146e081e9e7f0dd7b\n",
            "  Stored in directory: /root/.cache/pip/wheels/67/f5/19/b461849a50aefdf4bab47c4756596e82ee2118b8278e5a1980\n",
            "  Building wheel for params-flow (setup.py) ... \u001b[?25l\u001b[?25hdone\n",
            "  Created wheel for params-flow: filename=params_flow-0.8.2-cp36-none-any.whl size=19475 sha256=ce37584d1f2ccedc919aebc43821fcf65bf49df308f51850c2ed5c4f9c35bfc1\n",
            "  Stored in directory: /root/.cache/pip/wheels/08/c8/7f/81c86b9ff2b86e2c477e3914175be03e679e596067dc630c06\n",
            "Successfully built bert-for-tf2 py-params params-flow\n",
            "Installing collected packages: py-params, params-flow, bert-for-tf2\n",
            "Successfully installed bert-for-tf2-0.14.6 params-flow-0.8.2 py-params-0.9.7\n"
          ],
          "name": "stdout"
        }
      ]
    },
    {
      "cell_type": "code",
      "metadata": {
        "id": "9nd4u1Qz6ms5",
        "colab_type": "code",
        "colab": {
          "base_uri": "https://localhost:8080/",
          "height": 121
        },
        "outputId": "3520475c-eb9b-4ea5-f6e1-add6cbcf6028"
      },
      "source": [
        "!pip install sentencepiece"
      ],
      "execution_count": null,
      "outputs": [
        {
          "output_type": "stream",
          "text": [
            "Collecting sentencepiece\n",
            "\u001b[?25l  Downloading https://files.pythonhosted.org/packages/d4/a4/d0a884c4300004a78cca907a6ff9a5e9fe4f090f5d95ab341c53d28cbc58/sentencepiece-0.1.91-cp36-cp36m-manylinux1_x86_64.whl (1.1MB)\n",
            "\r\u001b[K     |▎                               | 10kB 23.2MB/s eta 0:00:01\r\u001b[K     |▋                               | 20kB 30.0MB/s eta 0:00:01\r\u001b[K     |█                               | 30kB 20.2MB/s eta 0:00:01\r\u001b[K     |█▏                              | 40kB 13.4MB/s eta 0:00:01\r\u001b[K     |█▌                              | 51kB 11.5MB/s eta 0:00:01\r\u001b[K     |█▉                              | 61kB 10.5MB/s eta 0:00:01\r\u001b[K     |██▏                             | 71kB 10.4MB/s eta 0:00:01\r\u001b[K     |██▍                             | 81kB 9.9MB/s eta 0:00:01\r\u001b[K     |██▊                             | 92kB 9.8MB/s eta 0:00:01\r\u001b[K     |███                             | 102kB 10.0MB/s eta 0:00:01\r\u001b[K     |███▍                            | 112kB 10.0MB/s eta 0:00:01\r\u001b[K     |███▋                            | 122kB 10.0MB/s eta 0:00:01\r\u001b[K     |████                            | 133kB 10.0MB/s eta 0:00:01\r\u001b[K     |████▎                           | 143kB 10.0MB/s eta 0:00:01\r\u001b[K     |████▋                           | 153kB 10.0MB/s eta 0:00:01\r\u001b[K     |████▉                           | 163kB 10.0MB/s eta 0:00:01\r\u001b[K     |█████▏                          | 174kB 10.0MB/s eta 0:00:01\r\u001b[K     |█████▌                          | 184kB 10.0MB/s eta 0:00:01\r\u001b[K     |█████▉                          | 194kB 10.0MB/s eta 0:00:01\r\u001b[K     |██████                          | 204kB 10.0MB/s eta 0:00:01\r\u001b[K     |██████▍                         | 215kB 10.0MB/s eta 0:00:01\r\u001b[K     |██████▊                         | 225kB 10.0MB/s eta 0:00:01\r\u001b[K     |███████                         | 235kB 10.0MB/s eta 0:00:01\r\u001b[K     |███████▎                        | 245kB 10.0MB/s eta 0:00:01\r\u001b[K     |███████▋                        | 256kB 10.0MB/s eta 0:00:01\r\u001b[K     |████████                        | 266kB 10.0MB/s eta 0:00:01\r\u001b[K     |████████▎                       | 276kB 10.0MB/s eta 0:00:01\r\u001b[K     |████████▌                       | 286kB 10.0MB/s eta 0:00:01\r\u001b[K     |████████▉                       | 296kB 10.0MB/s eta 0:00:01\r\u001b[K     |█████████▏                      | 307kB 10.0MB/s eta 0:00:01\r\u001b[K     |█████████▌                      | 317kB 10.0MB/s eta 0:00:01\r\u001b[K     |█████████▊                      | 327kB 10.0MB/s eta 0:00:01\r\u001b[K     |██████████                      | 337kB 10.0MB/s eta 0:00:01\r\u001b[K     |██████████▍                     | 348kB 10.0MB/s eta 0:00:01\r\u001b[K     |██████████▊                     | 358kB 10.0MB/s eta 0:00:01\r\u001b[K     |███████████                     | 368kB 10.0MB/s eta 0:00:01\r\u001b[K     |███████████▎                    | 378kB 10.0MB/s eta 0:00:01\r\u001b[K     |███████████▋                    | 389kB 10.0MB/s eta 0:00:01\r\u001b[K     |████████████                    | 399kB 10.0MB/s eta 0:00:01\r\u001b[K     |████████████▏                   | 409kB 10.0MB/s eta 0:00:01\r\u001b[K     |████████████▌                   | 419kB 10.0MB/s eta 0:00:01\r\u001b[K     |████████████▉                   | 430kB 10.0MB/s eta 0:00:01\r\u001b[K     |█████████████▏                  | 440kB 10.0MB/s eta 0:00:01\r\u001b[K     |█████████████▍                  | 450kB 10.0MB/s eta 0:00:01\r\u001b[K     |█████████████▊                  | 460kB 10.0MB/s eta 0:00:01\r\u001b[K     |██████████████                  | 471kB 10.0MB/s eta 0:00:01\r\u001b[K     |██████████████▍                 | 481kB 10.0MB/s eta 0:00:01\r\u001b[K     |██████████████▋                 | 491kB 10.0MB/s eta 0:00:01\r\u001b[K     |███████████████                 | 501kB 10.0MB/s eta 0:00:01\r\u001b[K     |███████████████▎                | 512kB 10.0MB/s eta 0:00:01\r\u001b[K     |███████████████▋                | 522kB 10.0MB/s eta 0:00:01\r\u001b[K     |███████████████▉                | 532kB 10.0MB/s eta 0:00:01\r\u001b[K     |████████████████▏               | 542kB 10.0MB/s eta 0:00:01\r\u001b[K     |████████████████▌               | 552kB 10.0MB/s eta 0:00:01\r\u001b[K     |████████████████▉               | 563kB 10.0MB/s eta 0:00:01\r\u001b[K     |█████████████████               | 573kB 10.0MB/s eta 0:00:01\r\u001b[K     |█████████████████▍              | 583kB 10.0MB/s eta 0:00:01\r\u001b[K     |█████████████████▊              | 593kB 10.0MB/s eta 0:00:01\r\u001b[K     |██████████████████              | 604kB 10.0MB/s eta 0:00:01\r\u001b[K     |██████████████████▎             | 614kB 10.0MB/s eta 0:00:01\r\u001b[K     |██████████████████▋             | 624kB 10.0MB/s eta 0:00:01\r\u001b[K     |███████████████████             | 634kB 10.0MB/s eta 0:00:01\r\u001b[K     |███████████████████▎            | 645kB 10.0MB/s eta 0:00:01\r\u001b[K     |███████████████████▌            | 655kB 10.0MB/s eta 0:00:01\r\u001b[K     |███████████████████▉            | 665kB 10.0MB/s eta 0:00:01\r\u001b[K     |████████████████████▏           | 675kB 10.0MB/s eta 0:00:01\r\u001b[K     |████████████████████▌           | 686kB 10.0MB/s eta 0:00:01\r\u001b[K     |████████████████████▊           | 696kB 10.0MB/s eta 0:00:01\r\u001b[K     |█████████████████████           | 706kB 10.0MB/s eta 0:00:01\r\u001b[K     |█████████████████████▍          | 716kB 10.0MB/s eta 0:00:01\r\u001b[K     |█████████████████████▋          | 727kB 10.0MB/s eta 0:00:01\r\u001b[K     |██████████████████████          | 737kB 10.0MB/s eta 0:00:01\r\u001b[K     |██████████████████████▎         | 747kB 10.0MB/s eta 0:00:01\r\u001b[K     |██████████████████████▋         | 757kB 10.0MB/s eta 0:00:01\r\u001b[K     |██████████████████████▉         | 768kB 10.0MB/s eta 0:00:01\r\u001b[K     |███████████████████████▏        | 778kB 10.0MB/s eta 0:00:01\r\u001b[K     |███████████████████████▌        | 788kB 10.0MB/s eta 0:00:01\r\u001b[K     |███████████████████████▉        | 798kB 10.0MB/s eta 0:00:01\r\u001b[K     |████████████████████████        | 808kB 10.0MB/s eta 0:00:01\r\u001b[K     |████████████████████████▍       | 819kB 10.0MB/s eta 0:00:01\r\u001b[K     |████████████████████████▊       | 829kB 10.0MB/s eta 0:00:01\r\u001b[K     |█████████████████████████       | 839kB 10.0MB/s eta 0:00:01\r\u001b[K     |█████████████████████████▎      | 849kB 10.0MB/s eta 0:00:01\r\u001b[K     |█████████████████████████▋      | 860kB 10.0MB/s eta 0:00:01\r\u001b[K     |██████████████████████████      | 870kB 10.0MB/s eta 0:00:01\r\u001b[K     |██████████████████████████▎     | 880kB 10.0MB/s eta 0:00:01\r\u001b[K     |██████████████████████████▌     | 890kB 10.0MB/s eta 0:00:01\r\u001b[K     |██████████████████████████▉     | 901kB 10.0MB/s eta 0:00:01\r\u001b[K     |███████████████████████████▏    | 911kB 10.0MB/s eta 0:00:01\r\u001b[K     |███████████████████████████▌    | 921kB 10.0MB/s eta 0:00:01\r\u001b[K     |███████████████████████████▊    | 931kB 10.0MB/s eta 0:00:01\r\u001b[K     |████████████████████████████    | 942kB 10.0MB/s eta 0:00:01\r\u001b[K     |████████████████████████████▍   | 952kB 10.0MB/s eta 0:00:01\r\u001b[K     |████████████████████████████▊   | 962kB 10.0MB/s eta 0:00:01\r\u001b[K     |█████████████████████████████   | 972kB 10.0MB/s eta 0:00:01\r\u001b[K     |█████████████████████████████▎  | 983kB 10.0MB/s eta 0:00:01\r\u001b[K     |█████████████████████████████▋  | 993kB 10.0MB/s eta 0:00:01\r\u001b[K     |██████████████████████████████  | 1.0MB 10.0MB/s eta 0:00:01\r\u001b[K     |██████████████████████████████▏ | 1.0MB 10.0MB/s eta 0:00:01\r\u001b[K     |██████████████████████████████▌ | 1.0MB 10.0MB/s eta 0:00:01\r\u001b[K     |██████████████████████████████▉ | 1.0MB 10.0MB/s eta 0:00:01\r\u001b[K     |███████████████████████████████▏| 1.0MB 10.0MB/s eta 0:00:01\r\u001b[K     |███████████████████████████████▍| 1.1MB 10.0MB/s eta 0:00:01\r\u001b[K     |███████████████████████████████▊| 1.1MB 10.0MB/s eta 0:00:01\r\u001b[K     |████████████████████████████████| 1.1MB 10.0MB/s \n",
            "\u001b[?25hInstalling collected packages: sentencepiece\n",
            "Successfully installed sentencepiece-0.1.91\n"
          ],
          "name": "stdout"
        }
      ]
    },
    {
      "cell_type": "code",
      "metadata": {
        "id": "VLPwBaua6jf2",
        "colab_type": "code",
        "colab": {
          "base_uri": "https://localhost:8080/",
          "height": 70
        },
        "outputId": "723bbe0a-d306-4180-eda4-374e60900a5e"
      },
      "source": [
        "import os\n",
        "import math\n",
        "import datetime\n",
        "\n",
        "from tqdm import tqdm\n",
        "\n",
        "import pandas as pd\n",
        "import numpy as np\n",
        "\n",
        "import tensorflow as tf\n",
        "from tensorflow import keras\n",
        "\n",
        "import bert\n",
        "from bert import BertModelLayer\n",
        "from bert.loader import StockBertConfig, map_stock_config_to_params, load_stock_weights\n",
        "from bert.tokenization.bert_tokenization import FullTokenizer\n",
        "\n",
        "import seaborn as sns\n",
        "from pylab import rcParams\n",
        "import matplotlib.pyplot as plt\n",
        "from matplotlib.ticker import MaxNLocator\n",
        "from matplotlib import rc\n",
        "\n",
        "from sklearn.metrics import confusion_matrix, classification_report\n",
        "\n",
        "import re\n",
        "\n",
        "%matplotlib inline\n",
        "%config InlineBackend.figure_format='retina'\n",
        "\n",
        "sns.set(style='whitegrid', palette='muted', font_scale=1.2)\n",
        "\n",
        "HAPPY_COLORS_PALETTE = [\"#01BEFE\", \"#FFDD00\", \"#FF7D00\", \"#FF006D\"]\n",
        "\n",
        "sns.set_palette(sns.color_palette(HAPPY_COLORS_PALETTE))\n",
        "\n",
        "rcParams['figure.figsize'] = 12, 8\n",
        "\n",
        "RANDOM_SEED = 42\n",
        "\n",
        "np.random.seed(RANDOM_SEED)\n",
        "tf.random.set_seed(RANDOM_SEED)"
      ],
      "execution_count": null,
      "outputs": [
        {
          "output_type": "stream",
          "text": [
            "/usr/local/lib/python3.6/dist-packages/statsmodels/tools/_testing.py:19: FutureWarning: pandas.util.testing is deprecated. Use the functions in the public API at pandas.testing instead.\n",
            "  import pandas.util.testing as tm\n"
          ],
          "name": "stderr"
        }
      ]
    },
    {
      "cell_type": "markdown",
      "metadata": {
        "id": "CzkSXum8RzGM",
        "colab_type": "text"
      },
      "source": [
        "# Data\n"
      ]
    },
    {
      "cell_type": "code",
      "metadata": {
        "id": "eL2BmRgYIZkl",
        "colab_type": "code",
        "colab": {
          "base_uri": "https://localhost:8080/",
          "height": 84
        },
        "outputId": "602f99db-1a42-499a-a267-1121edcfb565"
      },
      "source": [
        "!gdown --id 1IFaDhhg0qQDjH7X0BfQDYanoKIDLlW0N --output data-task1.csv"
      ],
      "execution_count": null,
      "outputs": [
        {
          "output_type": "stream",
          "text": [
            "Downloading...\n",
            "From: https://drive.google.com/uc?id=1IFaDhhg0qQDjH7X0BfQDYanoKIDLlW0N\n",
            "To: /content/data-task1.csv\n",
            "\r  0% 0.00/1.08M [00:00<?, ?B/s]\r100% 1.08M/1.08M [00:00<00:00, 71.1MB/s]\n"
          ],
          "name": "stdout"
        }
      ]
    },
    {
      "cell_type": "code",
      "metadata": {
        "id": "IJh-QX6w4J0_",
        "colab_type": "code",
        "colab": {}
      },
      "source": [
        "df = pd.read_csv('data-task1.csv', \n",
        "                   delimiter=',')\n",
        "df.columns = ['Text', 'Label']\n",
        "df.head(15)\n",
        "df[\"Text\"] = df[\"Text\"].astype(str)\n",
        "df[\"Label\"] = df[\"Label\"].astype(str)"
      ],
      "execution_count": null,
      "outputs": []
    },
    {
      "cell_type": "code",
      "metadata": {
        "id": "5RNKtsTSTPhh",
        "colab_type": "code",
        "colab": {}
      },
      "source": [
        "# train = pd.read_csv(\"train.csv\")\n",
        "# valid = pd.read_csv(\"valid.csv\")\n",
        "# test = pd.read_csv(\"test.csv\")"
      ],
      "execution_count": null,
      "outputs": []
    },
    {
      "cell_type": "code",
      "metadata": {
        "id": "lh6sCSOy46_B",
        "colab_type": "code",
        "colab": {
          "base_uri": "https://localhost:8080/",
          "height": 287
        },
        "outputId": "e8870666-e45e-4aad-b260-5e11ea08db1b"
      },
      "source": [
        "import matplotlib.pyplot as plt\n",
        "fig = plt.figure(figsize=(6,4))\n",
        "df.groupby('Label').Text.count().plot.bar(ylim=0)\n",
        "plt.show()"
      ],
      "execution_count": null,
      "outputs": [
        {
          "output_type": "display_data",
          "data": {
            "image/png": "[encoded data removed]",
            "text/plain": [
              "<Figure size 432x288 with 1 Axes>"
            ]
          },
          "metadata": {
            "tags": [],
            "image/png": {
              "width": 392,
              "height": 270
            },
            "needs_background": "light"
          }
        }
      ]
    },
    {
      "cell_type": "code",
      "metadata": {
        "id": "dgm-l6QI47G2",
        "colab_type": "code",
        "colab": {
          "base_uri": "https://localhost:8080/",
          "height": 84
        },
        "outputId": "063317f7-bf24-4004-e218-33bfe6368ce1"
      },
      "source": [
        "\n",
        "# For entire dataset sentences for each labels \n",
        "df.Label.value_counts()"
      ],
      "execution_count": null,
      "outputs": [
        {
          "output_type": "execute_result",
          "data": {
            "text/plain": [
              "2    3374\n",
              "0    3245\n",
              "1    2174\n",
              "Name: Label, dtype: int64"
            ]
          },
          "metadata": {
            "tags": []
          },
          "execution_count": 5
        }
      ]
    },
    {
      "cell_type": "code",
      "metadata": {
        "id": "kf3151rv47Jn",
        "colab_type": "code",
        "colab": {}
      },
      "source": [
        "# data = df"
      ],
      "execution_count": null,
      "outputs": []
    },
    {
      "cell_type": "markdown",
      "metadata": {
        "id": "pA7mei-y5IZi",
        "colab_type": "text"
      },
      "source": [
        "Data Preprocessing"
      ]
    },
    {
      "cell_type": "code",
      "metadata": {
        "id": "8Qgo-O_U47Ma",
        "colab_type": "code",
        "colab": {}
      },
      "source": [
        "def ReplaceDoubleColon(inputString):\n",
        "    return inputString.replace(\"..\", \" \") \n",
        "\n",
        "df['Text'] = df['Text'].apply(lambda x: ReplaceDoubleColon(x))\n",
        "\n",
        "def ReplaceTripleColon(inputString):\n",
        "    return inputString.replace(\"...\", \" \") \n",
        "\n",
        "df['Text'] = df['Text'].apply(lambda x: ReplaceTripleColon(x))\n",
        "\n",
        "def ReplaceFourColon(inputString):\n",
        "    return inputString.replace(\"....\", \" \") \n",
        "\n",
        "df['Text'] = df['Text'].apply(lambda x: ReplaceFourColon(x))"
      ],
      "execution_count": null,
      "outputs": []
    },
    {
      "cell_type": "code",
      "metadata": {
        "id": "Lc57tBFU6KuZ",
        "colab_type": "code",
        "colab": {}
      },
      "source": [
        "def textPattern(text):\n",
        "\n",
        "    # Clean the text\n",
        "    text = re.sub(r\"[^A-Za-z0-9^,!.\\/'+-=]\", \" \", text)\n",
        "    text = re.sub(r\" \\n \", \" \", text)\n",
        "    text = re.sub(r\"what's\", \"what is\", text)\n",
        "    text = re.sub(r\"\\'s\", \" \", text)\n",
        "    text = re.sub(r\"\\'ve\", \"have\", text)\n",
        "    text = re.sub(r\"can't\", \"can not\", text)\n",
        "    text = re.sub(r\"aren't\", \"are not\", text)\n",
        "    text = re.sub(r\"couldn't\", \"could not\", text)\n",
        "    text = re.sub(r\"didn't\", \"did not\", text)\n",
        "    text = re.sub(r\"doesn't\", \"does not\", text)\n",
        "    text = re.sub(r\"don't\", \"do not\", text)\n",
        "    text = re.sub(r\"hadn't\", \"had not\", text)\n",
        "    text = re.sub(r\"hasn't\", \"has not\", text)\n",
        "    text = re.sub(r\"haven't\", \"have not\", text)\n",
        "    text = re.sub(r\"isn't\", \"is not\", text)\n",
        "    text = re.sub(r\"shouldn't\", \"should not\", text)\n",
        "    text = re.sub(r\"wasn't\", \"was not\", text)\n",
        "    text = re.sub(r\"weren't\", \"were not\", text)\n",
        "    text = re.sub(r\"won't\", \"will not\", text)\n",
        "    text = re.sub(r\"wouldn't\", \"would not\", text)\n",
        "    text = re.sub(r\"mustn't\", \"must not\", text)\n",
        "    text = re.sub(r\"i'm\", \"i am\", text)\n",
        "    text = re.sub(r\"\\'re\", \"are\", text)\n",
        "    text = re.sub(r\",\", \" \", text)\n",
        "    text = re.sub(r\"\\.\", \" \", text)\n",
        "    text = re.sub(r\"!\", \" \", text)\n",
        "    text = re.sub(r\"\\/\", \" \", text)\n",
        "    text = re.sub(r\"\\^\", \" ^ \", text)\n",
        "    text = re.sub(r\"\\+\", \" \", text)\n",
        "    text = re.sub(r\"\\-\", \" - \", text)\n",
        "    text = re.sub(r\"\\= =\", \" \", text)\n",
        "    text = re.sub(r\"\\==\", \" \", text)\n",
        "    text = re.sub(r\"'\", \" \", text)\n",
        "    text = re.sub(r\"(\\d+)(k)\", r\"\\g<1>000\", text)\n",
        "    text = re.sub(r\":\", \" : \", text)\n",
        "    text = re.sub(r\"\\0s\", \"0\", text)\n",
        "    text = re.sub(r\" 9 11 \", \"911\", text)\n",
        "    text = re.sub(r\"\\s{2,}\", \" \", text)\n",
        "    return text\n",
        "\n",
        "df['Text'] = df['Text'].apply(lambda x: textPattern(x))"
      ],
      "execution_count": null,
      "outputs": []
    },
    {
      "cell_type": "code",
      "metadata": {
        "id": "uxT19ii26zNC",
        "colab_type": "code",
        "colab": {}
      },
      "source": [
        "from sklearn.model_selection import train_test_split\n",
        "data_train, test = train_test_split(df, test_size=0.20, random_state=42)"
      ],
      "execution_count": null,
      "outputs": []
    },
    {
      "cell_type": "code",
      "metadata": {
        "id": "c9jlLBKA7LB8",
        "colab_type": "code",
        "colab": {}
      },
      "source": [
        "train, valid = train_test_split(data_train, test_size=0.10, random_state=42)"
      ],
      "execution_count": null,
      "outputs": []
    },
    {
      "cell_type": "code",
      "metadata": {
        "id": "Nw4hUCMgTdmE",
        "colab_type": "code",
        "colab": {}
      },
      "source": [
        "train = train.append(valid).reset_index(drop=True)"
      ],
      "execution_count": null,
      "outputs": []
    },
    {
      "cell_type": "code",
      "metadata": {
        "id": "i4cZ4oi_TTfC",
        "colab_type": "code",
        "colab": {
          "base_uri": "https://localhost:8080/",
          "height": 195
        },
        "outputId": "07371ad7-48a2-463c-def2-53939faeaf0f"
      },
      "source": [
        "train.head()"
      ],
      "execution_count": null,
      "outputs": [
        {
          "output_type": "execute_result",
          "data": {
            "text/html": [
              "<div>\n",
              "<style scoped>\n",
              "    .dataframe tbody tr th:only-of-type {\n",
              "        vertical-align: middle;\n",
              "    }\n",
              "\n",
              "    .dataframe tbody tr th {\n",
              "        vertical-align: top;\n",
              "    }\n",
              "\n",
              "    .dataframe thead th {\n",
              "        text-align: right;\n",
              "    }\n",
              "</style>\n",
              "<table border=\"1\" class=\"dataframe\">\n",
              "  <thead>\n",
              "    <tr style=\"text-align: right;\">\n",
              "      <th></th>\n",
              "      <th>Text</th>\n",
              "      <th>Label</th>\n",
              "    </tr>\n",
              "  </thead>\n",
              "  <tbody>\n",
              "    <tr>\n",
              "      <th>0</th>\n",
              "      <td>Chinese companies quit Indian cricket</td>\n",
              "      <td>0</td>\n",
              "    </tr>\n",
              "    <tr>\n",
              "      <th>1</th>\n",
              "      <td>AshokShrivasta6 ndtv the channel which you se...</td>\n",
              "      <td>2</td>\n",
              "    </tr>\n",
              "    <tr>\n",
              "      <th>2</th>\n",
              "      <td>ArnabKGoswami sudhirchaudhary Mumbai Police Zi...</td>\n",
              "      <td>0</td>\n",
              "    </tr>\n",
              "    <tr>\n",
              "      <th>3</th>\n",
              "      <td></td>\n",
              "      <td>2</td>\n",
              "    </tr>\n",
              "    <tr>\n",
              "      <th>4</th>\n",
              "      <td>Wow dada vigorous zindabad</td>\n",
              "      <td>0</td>\n",
              "    </tr>\n",
              "  </tbody>\n",
              "</table>\n",
              "</div>"
            ],
            "text/plain": [
              "                                                Text Label\n",
              "0              Chinese companies quit Indian cricket     0\n",
              "1   AshokShrivasta6 ndtv the channel which you se...     2\n",
              "2  ArnabKGoswami sudhirchaudhary Mumbai Police Zi...     0\n",
              "3                                                        2\n",
              "4                         Wow dada vigorous zindabad     0"
            ]
          },
          "metadata": {
            "tags": []
          },
          "execution_count": 15
        }
      ]
    },
    {
      "cell_type": "code",
      "metadata": {
        "id": "Fes5nupOfR9B",
        "colab_type": "code",
        "colab": {
          "base_uri": "https://localhost:8080/",
          "height": 308
        },
        "outputId": "38f10704-a064-4226-d903-312397a7d757"
      },
      "source": [
        "chart = sns.countplot(train.Label, palette=HAPPY_COLORS_PALETTE)\n",
        "plt.title(\"Number of texts per class\")\n",
        "chart.set_xticklabels(chart.get_xticklabels(), rotation=30, horizontalalignment='right');"
      ],
      "execution_count": null,
      "outputs": [
        {
          "output_type": "display_data",
          "data": {
            "image/png": "[encoded data removed]",
            "text/plain": [
              "<Figure size 432x288 with 1 Axes>"
            ]
          },
          "metadata": {
            "tags": [],
            "image/png": {
              "width": 410,
              "height": 291
            },
            "needs_background": "light"
          }
        }
      ]
    },
    {
      "cell_type": "markdown",
      "metadata": {
        "id": "Nc23faMAR--V",
        "colab_type": "text"
      },
      "source": [
        "# Islamophhobia Detection with BERT\n"
      ]
    },
    {
      "cell_type": "code",
      "metadata": {
        "id": "-P2y2g3m8Ytp",
        "colab_type": "code",
        "colab": {
          "base_uri": "https://localhost:8080/",
          "height": 202
        },
        "outputId": "7cda293f-bcfe-40c8-8fd6-b0f432e2d097"
      },
      "source": [
        "!wget https://storage.googleapis.com/bert_models/2018_10_18/uncased_L-12_H-768_A-12.zip"
      ],
      "execution_count": null,
      "outputs": [
        {
          "output_type": "stream",
          "text": [
            "--2020-09-10 14:01:32--  https://storage.googleapis.com/bert_models/2018_10_18/uncased_L-12_H-768_A-12.zip\n",
            "Resolving storage.googleapis.com (storage.googleapis.com)... 74.125.24.128, 2404:6800:4003:c03::80, 2404:6800:4003:c00::80\n",
            "Connecting to storage.googleapis.com (storage.googleapis.com)|74.125.24.128|:443... connected.\n",
            "HTTP request sent, awaiting response... 200 OK\n",
            "Length: 407727028 (389M) [application/zip]\n",
            "Saving to: ‘uncased_L-12_H-768_A-12.zip’\n",
            "\n",
            "uncased_L-12_H-768_ 100%[===================>] 388.84M  69.6MB/s    in 6.0s    \n",
            "\n",
            "2020-09-10 14:01:39 (65.2 MB/s) - ‘uncased_L-12_H-768_A-12.zip’ saved [407727028/407727028]\n",
            "\n"
          ],
          "name": "stdout"
        }
      ]
    },
    {
      "cell_type": "code",
      "metadata": {
        "id": "ARivu75M8fqM",
        "colab_type": "code",
        "colab": {
          "base_uri": "https://localhost:8080/",
          "height": 134
        },
        "outputId": "e205229f-f885-4b87-9588-c4a2ee85a3e2"
      },
      "source": [
        "!unzip uncased_L-12_H-768_A-12.zip"
      ],
      "execution_count": null,
      "outputs": [
        {
          "output_type": "stream",
          "text": [
            "Archive:  uncased_L-12_H-768_A-12.zip\n",
            "   creating: uncased_L-12_H-768_A-12/\n",
            "  inflating: uncased_L-12_H-768_A-12/bert_model.ckpt.meta  \n",
            "  inflating: uncased_L-12_H-768_A-12/bert_model.ckpt.data-00000-of-00001  \n",
            "  inflating: uncased_L-12_H-768_A-12/vocab.txt  \n",
            "  inflating: uncased_L-12_H-768_A-12/bert_model.ckpt.index  \n",
            "  inflating: uncased_L-12_H-768_A-12/bert_config.json  \n"
          ],
          "name": "stdout"
        }
      ]
    },
    {
      "cell_type": "code",
      "metadata": {
        "id": "4Cgl9mvs8hAl",
        "colab_type": "code",
        "colab": {}
      },
      "source": [
        "os.makedirs(\"model\", exist_ok=True)"
      ],
      "execution_count": null,
      "outputs": []
    },
    {
      "cell_type": "code",
      "metadata": {
        "id": "QoY4PY-w9FkN",
        "colab_type": "code",
        "colab": {}
      },
      "source": [
        "!mv uncased_L-12_H-768_A-12/ model"
      ],
      "execution_count": null,
      "outputs": []
    },
    {
      "cell_type": "code",
      "metadata": {
        "id": "LbvjbsEb9Ndv",
        "colab_type": "code",
        "colab": {}
      },
      "source": [
        "bert_model_name=\"uncased_L-12_H-768_A-12\"\n",
        "\n",
        "bert_ckpt_dir = os.path.join(\"model/\", bert_model_name)\n",
        "bert_ckpt_file = os.path.join(bert_ckpt_dir, \"bert_model.ckpt\")\n",
        "bert_config_file = os.path.join(bert_ckpt_dir, \"bert_config.json\")"
      ],
      "execution_count": null,
      "outputs": []
    },
    {
      "cell_type": "markdown",
      "metadata": {
        "id": "3os6qeC6SB-M",
        "colab_type": "text"
      },
      "source": [
        "## Preprocessing"
      ]
    },
    {
      "cell_type": "code",
      "metadata": {
        "id": "TApTW_wLxoA9",
        "colab_type": "code",
        "colab": {}
      },
      "source": [
        "class IslamophobiaDetectionData:\n",
        "  DATA_COLUMN = \"Text\"\n",
        "  LABEL_COLUMN = \"Label\"\n",
        "\n",
        "  def __init__(self, train, test, tokenizer: FullTokenizer, classes, max_seq_len=192):\n",
        "    self.tokenizer = tokenizer\n",
        "    self.max_seq_len = 0\n",
        "    self.classes = classes\n",
        "    \n",
        "    ((self.train_x, self.train_y), (self.test_x, self.test_y)) = map(self._prepare, [train, test])\n",
        "\n",
        "    print(\"max seq_len\", self.max_seq_len)\n",
        "    self.max_seq_len = min(self.max_seq_len, max_seq_len)\n",
        "    self.train_x, self.test_x = map(self._pad, [self.train_x, self.test_x])\n",
        "\n",
        "  def _prepare(self, df):\n",
        "    x, y = [], []\n",
        "    \n",
        "    for _, row in tqdm(df.iterrows()):\n",
        "      text, label = row[IslamophobiaDetectionData.DATA_COLUMN], row[IslamophobiaDetectionData.LABEL_COLUMN]\n",
        "      tokens = self.tokenizer.tokenize(text)\n",
        "      tokens = [\"[CLS]\"] + tokens + [\"[SEP]\"]\n",
        "      token_ids = self.tokenizer.convert_tokens_to_ids(tokens)\n",
        "      self.max_seq_len = max(self.max_seq_len, len(token_ids))\n",
        "      x.append(token_ids)\n",
        "      y.append(self.classes.index(label))\n",
        "\n",
        "    return np.array(x), np.array(y)\n",
        "\n",
        "  def _pad(self, ids):\n",
        "    x = []\n",
        "    for input_ids in ids:\n",
        "      input_ids = input_ids[:min(len(input_ids), self.max_seq_len - 2)]\n",
        "      input_ids = input_ids + [0] * (self.max_seq_len - len(input_ids))\n",
        "      x.append(np.array(input_ids))\n",
        "    return np.array(x)"
      ],
      "execution_count": null,
      "outputs": []
    },
    {
      "cell_type": "code",
      "metadata": {
        "id": "qQWpVG464BuO",
        "colab_type": "code",
        "colab": {}
      },
      "source": [
        "tokenizer = FullTokenizer(vocab_file=os.path.join(bert_ckpt_dir, \"vocab.txt\"))"
      ],
      "execution_count": null,
      "outputs": []
    },
    {
      "cell_type": "code",
      "metadata": {
        "id": "xnGGC53P9nC8",
        "colab_type": "code",
        "colab": {}
      },
      "source": [
        "def create_model(max_seq_len, bert_ckpt_file):\n",
        "\n",
        "  with tf.io.gfile.GFile(bert_config_file, \"r\") as reader:\n",
        "      bc = StockBertConfig.from_json_string(reader.read())\n",
        "      bert_params = map_stock_config_to_params(bc)\n",
        "      bert_params.adapter_size = None\n",
        "      bert = BertModelLayer.from_params(bert_params, name=\"bert\")\n",
        "        \n",
        "  input_ids = keras.layers.Input(shape=(max_seq_len, ), dtype='int32', name=\"input_ids\")\n",
        "  bert_output = bert(input_ids)\n",
        "\n",
        "  #print(\"bert shape\", bert_output.shape)\n",
        "\n",
        "  cls_out = keras.layers.Lambda(lambda seq: seq[:, 0, :])(bert_output)\n",
        "  cls_out = keras.layers.Dropout(0.5)(cls_out)\n",
        "  logits = keras.layers.Dense(units=768, activation=\"tanh\")(cls_out)\n",
        "  logits = keras.layers.Dropout(0.5)(logits)\n",
        "\n",
        "  logits = keras.layers.Dense(units=len(classes), activation=\"softmax\")(logits)\n",
        "\n",
        "\n",
        "  model = keras.Model(inputs=input_ids, outputs=logits)\n",
        "  model.build(input_shape=(None, max_seq_len))\n",
        "\n",
        "  load_stock_weights(bert, bert_ckpt_file)\n",
        "        \n",
        "  return model"
      ],
      "execution_count": null,
      "outputs": []
    },
    {
      "cell_type": "markdown",
      "metadata": {
        "id": "67GbMH3WRvZg",
        "colab_type": "text"
      },
      "source": [
        "## Training"
      ]
    },
    {
      "cell_type": "code",
      "metadata": {
        "id": "kXyaQY4E9S10",
        "colab_type": "code",
        "colab": {
          "base_uri": "https://localhost:8080/",
          "height": 67
        },
        "outputId": "e6aa1f6d-0862-4607-e9d8-159dace48793"
      },
      "source": [
        "classes = train.Label.unique().tolist()\n",
        "\n",
        "data = IslamophobiaDetectionData(train, test, tokenizer, classes, max_seq_len=128)"
      ],
      "execution_count": null,
      "outputs": [
        {
          "output_type": "stream",
          "text": [
            "7034it [00:02, 3130.37it/s]\n",
            "1759it [00:00, 3187.88it/s]\n"
          ],
          "name": "stderr"
        },
        {
          "output_type": "stream",
          "text": [
            "max seq_len 135\n"
          ],
          "name": "stdout"
        }
      ]
    },
    {
      "cell_type": "code",
      "metadata": {
        "id": "TizDFiPC9n4b",
        "colab_type": "code",
        "colab": {
          "base_uri": "https://localhost:8080/",
          "height": 255
        },
        "outputId": "390eb5be-a34f-4adc-a9bf-2a8f997422cd"
      },
      "source": [
        "model = create_model(data.max_seq_len, bert_ckpt_file)"
      ],
      "execution_count": null,
      "outputs": [
        {
          "output_type": "stream",
          "text": [
            "bert shape (None, 128, 768)\n",
            "Done loading 196 BERT weights from: model/uncased_L-12_H-768_A-12/bert_model.ckpt into <bert.model.BertModelLayer object at 0x7f15e0b857f0> (prefix:bert). Count of weights not found in the checkpoint was: [0]. Count of weights with mismatched shape: [0]\n",
            "Unused weights from checkpoint: \n",
            "\tbert/embeddings/token_type_embeddings\n",
            "\tbert/pooler/dense/bias\n",
            "\tbert/pooler/dense/kernel\n",
            "\tcls/predictions/output_bias\n",
            "\tcls/predictions/transform/LayerNorm/beta\n",
            "\tcls/predictions/transform/LayerNorm/gamma\n",
            "\tcls/predictions/transform/dense/bias\n",
            "\tcls/predictions/transform/dense/kernel\n",
            "\tcls/seq_relationship/output_bias\n",
            "\tcls/seq_relationship/output_weights\n"
          ],
          "name": "stdout"
        }
      ]
    },
    {
      "cell_type": "code",
      "metadata": {
        "id": "XjUkMjiGbC7f",
        "colab_type": "code",
        "colab": {
          "base_uri": "https://localhost:8080/",
          "height": 386
        },
        "outputId": "147bd8da-2ee8-4aac-86ec-64e0d6595673"
      },
      "source": [
        "model.summary()"
      ],
      "execution_count": null,
      "outputs": [
        {
          "output_type": "stream",
          "text": [
            "Model: \"functional_1\"\n",
            "_________________________________________________________________\n",
            "Layer (type)                 Output Shape              Param #   \n",
            "=================================================================\n",
            "input_ids (InputLayer)       [(None, 128)]             0         \n",
            "_________________________________________________________________\n",
            "bert (BertModelLayer)        (None, 128, 768)          108890112 \n",
            "_________________________________________________________________\n",
            "lambda (Lambda)              (None, 768)               0         \n",
            "_________________________________________________________________\n",
            "dropout (Dropout)            (None, 768)               0         \n",
            "_________________________________________________________________\n",
            "dense (Dense)                (None, 768)               590592    \n",
            "_________________________________________________________________\n",
            "dropout_1 (Dropout)          (None, 768)               0         \n",
            "_________________________________________________________________\n",
            "dense_1 (Dense)              (None, 3)                 2307      \n",
            "=================================================================\n",
            "Total params: 109,483,011\n",
            "Trainable params: 109,483,011\n",
            "Non-trainable params: 0\n",
            "_________________________________________________________________\n"
          ],
          "name": "stdout"
        }
      ]
    },
    {
      "cell_type": "code",
      "metadata": {
        "id": "gYEHNOvbU9o8",
        "colab_type": "code",
        "colab": {}
      },
      "source": [
        "model.compile(\n",
        "  optimizer=keras.optimizers.Adam(1e-5),\n",
        "  loss=keras.losses.SparseCategoricalCrossentropy(from_logits=True),\n",
        "  metrics=[keras.metrics.SparseCategoricalAccuracy(name=\"acc\")]\n",
        ")"
      ],
      "execution_count": null,
      "outputs": []
    },
    {
      "cell_type": "code",
      "metadata": {
        "id": "oIjlbG8u9xis",
        "colab_type": "code",
        "colab": {}
      },
      "source": [
        "\n",
        "history = model.fit(\n",
        "  x=data.train_x, \n",
        "  y=data.train_y,\n",
        "  validation_split=0.1,\n",
        "  batch_size=16,\n",
        "  shuffle=True,\n",
        "  epochs=5\n",
        ")"
      ],
      "execution_count": null,
      "outputs": []
    },
    {
      "cell_type": "markdown",
      "metadata": {
        "id": "6s31ZIADSGNp",
        "colab_type": "text"
      },
      "source": [
        "## Evaluation"
      ]
    },
    {
      "cell_type": "code",
      "metadata": {
        "id": "DgE4VvMcI6Db",
        "colab_type": "code",
        "colab": {}
      },
      "source": [
        "%load_ext tensorboard"
      ],
      "execution_count": null,
      "outputs": []
    },
    {
      "cell_type": "code",
      "metadata": {
        "id": "Pu0m0CWXJBq8",
        "colab_type": "code",
        "colab": {}
      },
      "source": [
        "%tensorboard --logdir log"
      ],
      "execution_count": null,
      "outputs": []
    },
    {
      "cell_type": "code",
      "metadata": {
        "id": "5XLlcuVC1lLE",
        "colab_type": "code",
        "colab": {
          "base_uri": "https://localhost:8080/",
          "height": 306
        },
        "outputId": "97ad27a0-38d2-4d0f-f4aa-627ab9a035be"
      },
      "source": [
        "ax = plt.figure().gca()\n",
        "ax.xaxis.set_major_locator(MaxNLocator(integer=True))\n",
        "\n",
        "ax.plot(history.history['loss'])\n",
        "ax.plot(history.history['val_loss'])\n",
        "plt.ylabel('Loss')\n",
        "plt.xlabel('Epoch')\n",
        "plt.legend(['train', 'test'])\n",
        "plt.title('Loss over training epochs')\n",
        "plt.show();"
      ],
      "execution_count": null,
      "outputs": [
        {
          "output_type": "display_data",
          "data": {
            "image/png": "[encoded data removed]",
            "text/plain": [
              "<Figure size 432x288 with 1 Axes>"
            ]
          },
          "metadata": {
            "tags": [],
            "image/png": {
              "width": 406,
              "height": 289
            },
            "needs_background": "light"
          }
        }
      ]
    },
    {
      "cell_type": "code",
      "metadata": {
        "id": "yZ7CVW_71m0Q",
        "colab_type": "code",
        "colab": {
          "base_uri": "https://localhost:8080/",
          "height": 306
        },
        "outputId": "ccc287a6-d900-4eec-f632-996b061df2d5"
      },
      "source": [
        "ax = plt.figure().gca()\n",
        "ax.xaxis.set_major_locator(MaxNLocator(integer=True))\n",
        "\n",
        "ax.plot(history.history['acc'])\n",
        "ax.plot(history.history['val_acc'])\n",
        "plt.ylabel('Accuracy')\n",
        "plt.xlabel('Epoch')\n",
        "plt.legend(['train', 'test'])\n",
        "plt.title('Accuracy over training epochs')\n",
        "plt.show();"
      ],
      "execution_count": null,
      "outputs": [
        {
          "output_type": "display_data",
          "data": {
            "image/png": "[encoded data removed]",
            "text/plain": [
              "<Figure size 432x288 with 1 Axes>"
            ]
          },
          "metadata": {
            "tags": [],
            "image/png": {
              "width": 406,
              "height": 289
            },
            "needs_background": "light"
          }
        }
      ]
    },
    {
      "cell_type": "code",
      "metadata": {
        "id": "RGAECSj4AiD1",
        "colab_type": "code",
        "colab": {
          "base_uri": "https://localhost:8080/",
          "height": 84
        },
        "outputId": "d8312432-c21b-43f9-eb25-79f4c304962c"
      },
      "source": [
        "_, train_acc = model.evaluate(data.train_x, data.train_y)\n",
        "_, test_acc = model.evaluate(data.test_x, data.test_y)\n",
        "\n",
        "print(\"train acc\", train_acc)\n",
        "print(\"test acc\", test_acc)"
      ],
      "execution_count": null,
      "outputs": [
        {
          "output_type": "stream",
          "text": [
            "220/220 [==============================] - 66s 300ms/step - loss: 0.6637 - acc: 0.8848\n",
            "55/55 [==============================] - 17s 303ms/step - loss: 0.7352 - acc: 0.8101\n",
            "train acc 0.8848450183868408\n",
            "test acc 0.8101193904876709\n"
          ],
          "name": "stdout"
        }
      ]
    },
    {
      "cell_type": "code",
      "metadata": {
        "id": "Leg5atNmPzGb",
        "colab_type": "code",
        "colab": {}
      },
      "source": [
        "y_pred = model.predict(data.test_x).argmax(axis=-1)"
      ],
      "execution_count": null,
      "outputs": []
    },
    {
      "cell_type": "code",
      "metadata": {
        "id": "SZYriKx6UUOb",
        "colab_type": "code",
        "colab": {
          "base_uri": "https://localhost:8080/",
          "height": 185
        },
        "outputId": "71181fb2-cf2a-4682-ce4e-0b93c0d6efc3"
      },
      "source": [
        "print(classification_report(data.test_y, y_pred))"
      ],
      "execution_count": null,
      "outputs": [
        {
          "output_type": "stream",
          "text": [
            "              precision    recall  f1-score   support\n",
            "\n",
            "           0       0.76      0.82      0.79       604\n",
            "           1       0.83      0.80      0.82       706\n",
            "           2       0.86      0.80      0.83       449\n",
            "\n",
            "    accuracy                           0.81      1759\n",
            "   macro avg       0.82      0.81      0.81      1759\n",
            "weighted avg       0.81      0.81      0.81      1759\n",
            "\n"
          ],
          "name": "stdout"
        }
      ]
    },
    {
      "cell_type": "code",
      "metadata": {
        "id": "lS-5TbGDP4rr",
        "colab_type": "code",
        "colab": {}
      },
      "source": [
        "\n",
        "cm = confusion_matrix(data.test_y, y_pred)\n",
        "df_cm = pd.DataFrame(cm, index=classes, columns=classes)"
      ],
      "execution_count": null,
      "outputs": []
    },
    {
      "cell_type": "code",
      "metadata": {
        "id": "DgkPl9gLS4DL",
        "colab_type": "code",
        "colab": {
          "base_uri": "https://localhost:8080/",
          "height": 291
        },
        "outputId": "520866a9-70e7-48cb-d60e-09326b4bf7ae"
      },
      "source": [
        "hmap = sns.heatmap(df_cm, annot=True, fmt=\"d\")\n",
        "hmap.yaxis.set_ticklabels(hmap.yaxis.get_ticklabels(), rotation=0, ha='right')\n",
        "hmap.xaxis.set_ticklabels(hmap.xaxis.get_ticklabels(), rotation=30, ha='right')\n",
        "plt.ylabel('True label')\n",
        "plt.xlabel('Predicted label');"
      ],
      "execution_count": null,
      "outputs": [
        {
          "output_type": "display_data",
          "data": {
            "image/png": "[encoded data removed]",
            "text/plain": [
              "<Figure size 432x288 with 2 Axes>"
            ]
          },
          "metadata": {
            "tags": [],
            "image/png": {
              "width": 380,
              "height": 274
            },
            "needs_background": "light"
          }
        }
      ]
    },
    {
      "cell_type": "code",
      "metadata": {
        "id": "sHHv3pbeU8MZ",
        "colab_type": "code",
        "colab": {
          "base_uri": "https://localhost:8080/",
          "height": 1000
        },
        "outputId": "4c8b2c18-1fd7-4334-9154-eca4016fdd79"
      },
      "source": [
        "import random\n",
        "from sklearn.metrics import accuracy_score\n",
        "from sklearn.model_selection import train_test_split\n",
        "Mean_score = []\n",
        "max_val = []\n",
        "min_val = []\n",
        "SE = []\n",
        "Mean_per = []\n",
        "\n",
        "kFold = 10\n",
        "\n",
        "#To get accuracy of the model for 10 different splits\n",
        "scores = []\n",
        "training_accuracy = []\n",
        "testing_accuracy = []\n",
        "print(\"BERT: \")\n",
        "for i in range(kFold):\n",
        "    random_shuff = random.randint(1,6000)\n",
        "    print('Fold ', i+1,'Random number for split', random_shuff)\n",
        "    print('')\n",
        "    # Splitting data into test and train\n",
        "    train, test = train_test_split(df, test_size=0.10, shuffle = True, random_state=random_shuff)\n",
        "    # Splitting train data further into train and validate\n",
        "    # train, valid = train_test_split(data_training, test_size=0.10, random_state=random_shuff)\n",
        "    # train = train.append(valid).reset_index(drop=True)\n",
        "    classes = train.Label.unique().tolist()\n",
        "    data = IslamophobiaDetectionData(train, test, tokenizer, classes, max_seq_len=128)\n",
        "    history = model.fit( x=data.train_x, y=data.train_y,validation_split=0.1,batch_size=16, shuffle=True,epochs=5)\n",
        "    #train_loss, train_acc = model.evaluate(data.train_x, data.train_y)\n",
        "    test_loss, test_acc = model.evaluate(data.test_x, data.test_y)\n",
        "    \n",
        "    #training_accuracy.append(train_acc)\n",
        "    testing_accuracy.append(test_acc)\n",
        "\n",
        "    y_pred = model.predict(data.test_x).argmax(axis=-1)\n",
        "\n",
        "    scoreValue =accuracy_score(data.test_y, y_pred)\n",
        "    scores.append(scoreValue)\n"
      ],
      "execution_count": 67,
      "outputs": [
        {
          "output_type": "stream",
          "text": [
            "333it [00:00, 3326.09it/s]"
          ],
          "name": "stderr"
        },
        {
          "output_type": "stream",
          "text": [
            "BERT: \n",
            "Fold  1 Random number for split 1733\n",
            "\n"
          ],
          "name": "stdout"
        },
        {
          "output_type": "stream",
          "text": [
            "7913it [00:02, 3163.13it/s]\n",
            "880it [00:00, 3034.12it/s]\n"
          ],
          "name": "stderr"
        },
        {
          "output_type": "stream",
          "text": [
            "max seq_len 135\n",
            "Epoch 1/5\n",
            "446/446 [==============================] - 294s 659ms/step - loss: 0.7744 - acc: 0.7693 - val_loss: 0.6800 - val_acc: 0.8674\n",
            "Epoch 2/5\n",
            "446/446 [==============================] - 293s 658ms/step - loss: 0.6899 - acc: 0.8587 - val_loss: 0.6790 - val_acc: 0.8687\n",
            "Epoch 3/5\n",
            "446/446 [==============================] - 292s 654ms/step - loss: 0.6755 - acc: 0.8721 - val_loss: 0.6698 - val_acc: 0.8763\n",
            "Epoch 4/5\n",
            "446/446 [==============================] - 292s 655ms/step - loss: 0.6676 - acc: 0.8813 - val_loss: 0.6787 - val_acc: 0.8674\n",
            "Epoch 5/5\n",
            "446/446 [==============================] - 291s 652ms/step - loss: 0.6600 - acc: 0.8877 - val_loss: 0.6838 - val_acc: 0.8649\n",
            "28/28 [==============================] - 8s 293ms/step - loss: 0.6908 - acc: 0.8580\n"
          ],
          "name": "stdout"
        },
        {
          "output_type": "stream",
          "text": [
            "332it [00:00, 3316.95it/s]"
          ],
          "name": "stderr"
        },
        {
          "output_type": "stream",
          "text": [
            "Fold  2 Random number for split 2395\n",
            "\n"
          ],
          "name": "stdout"
        },
        {
          "output_type": "stream",
          "text": [
            "7913it [00:02, 3340.75it/s]\n",
            "880it [00:00, 3382.05it/s]\n"
          ],
          "name": "stderr"
        },
        {
          "output_type": "stream",
          "text": [
            "max seq_len 135\n",
            "Epoch 1/5\n",
            "446/446 [==============================] - 292s 654ms/step - loss: 0.9965 - acc: 0.5439 - val_loss: 0.9388 - val_acc: 0.5896\n",
            "Epoch 2/5\n",
            "446/446 [==============================] - 292s 654ms/step - loss: 0.6869 - acc: 0.8586 - val_loss: 0.6662 - val_acc: 0.8838\n",
            "Epoch 3/5\n",
            "446/446 [==============================] - 292s 654ms/step - loss: 0.6616 - acc: 0.8848 - val_loss: 0.6593 - val_acc: 0.8927\n",
            "Epoch 4/5\n",
            "446/446 [==============================] - 292s 654ms/step - loss: 0.6550 - acc: 0.8923 - val_loss: 0.6644 - val_acc: 0.8864\n",
            "Epoch 5/5\n",
            "446/446 [==============================] - 292s 655ms/step - loss: 0.6515 - acc: 0.8978 - val_loss: 0.6552 - val_acc: 0.8952\n",
            "28/28 [==============================] - 8s 294ms/step - loss: 0.6490 - acc: 0.9011\n"
          ],
          "name": "stdout"
        },
        {
          "output_type": "stream",
          "text": [
            "292it [00:00, 2915.44it/s]"
          ],
          "name": "stderr"
        },
        {
          "output_type": "stream",
          "text": [
            "Fold  3 Random number for split 3469\n",
            "\n"
          ],
          "name": "stdout"
        },
        {
          "output_type": "stream",
          "text": [
            "7913it [00:02, 3295.98it/s]\n",
            "880it [00:00, 3190.71it/s]\n"
          ],
          "name": "stderr"
        },
        {
          "output_type": "stream",
          "text": [
            "max seq_len 135\n",
            "Epoch 1/5\n",
            "446/446 [==============================] - 293s 656ms/step - loss: 0.8855 - acc: 0.6568 - val_loss: 0.6622 - val_acc: 0.8876\n",
            "Epoch 2/5\n",
            "446/446 [==============================] - 294s 659ms/step - loss: 0.6561 - acc: 0.8907 - val_loss: 0.6593 - val_acc: 0.8902\n",
            "Epoch 3/5\n",
            "446/446 [==============================] - 293s 657ms/step - loss: 0.6453 - acc: 0.9037 - val_loss: 0.6519 - val_acc: 0.8977\n",
            "Epoch 4/5\n",
            "446/446 [==============================] - 293s 657ms/step - loss: 0.6484 - acc: 0.8995 - val_loss: 0.6676 - val_acc: 0.8813\n",
            "Epoch 5/5\n",
            "446/446 [==============================] - 293s 657ms/step - loss: 0.6445 - acc: 0.9039 - val_loss: 0.6557 - val_acc: 0.8939\n",
            "28/28 [==============================] - 8s 294ms/step - loss: 0.6404 - acc: 0.9080\n"
          ],
          "name": "stdout"
        },
        {
          "output_type": "stream",
          "text": [
            "246it [00:00, 2455.40it/s]"
          ],
          "name": "stderr"
        },
        {
          "output_type": "stream",
          "text": [
            "Fold  4 Random number for split 1647\n",
            "\n"
          ],
          "name": "stdout"
        },
        {
          "output_type": "stream",
          "text": [
            "7913it [00:02, 3257.38it/s]\n",
            "880it [00:00, 3387.89it/s]\n"
          ],
          "name": "stderr"
        },
        {
          "output_type": "stream",
          "text": [
            "max seq_len 135\n",
            "Epoch 1/5\n",
            "446/446 [==============================] - 293s 658ms/step - loss: 0.8975 - acc: 0.6450 - val_loss: 0.8334 - val_acc: 0.7020\n",
            "Epoch 2/5\n",
            "446/446 [==============================] - 293s 657ms/step - loss: 0.6731 - acc: 0.8747 - val_loss: 0.6267 - val_acc: 0.9242\n",
            "Epoch 3/5\n",
            "446/446 [==============================] - 293s 657ms/step - loss: 0.6446 - acc: 0.9065 - val_loss: 0.6246 - val_acc: 0.9268\n",
            "Epoch 4/5\n",
            "446/446 [==============================] - 293s 658ms/step - loss: 0.6420 - acc: 0.9066 - val_loss: 0.6336 - val_acc: 0.9179\n",
            "Epoch 5/5\n",
            "446/446 [==============================] - 294s 658ms/step - loss: 0.6424 - acc: 0.9058 - val_loss: 0.6255 - val_acc: 0.9230\n",
            "28/28 [==============================] - 8s 293ms/step - loss: 0.6461 - acc: 0.9023\n"
          ],
          "name": "stdout"
        },
        {
          "output_type": "stream",
          "text": [
            "264it [00:00, 2636.97it/s]"
          ],
          "name": "stderr"
        },
        {
          "output_type": "stream",
          "text": [
            "Fold  5 Random number for split 707\n",
            "\n"
          ],
          "name": "stdout"
        },
        {
          "output_type": "stream",
          "text": [
            "7913it [00:02, 3141.20it/s]\n",
            "880it [00:00, 3219.21it/s]\n"
          ],
          "name": "stderr"
        },
        {
          "output_type": "stream",
          "text": [
            "max seq_len 135\n",
            "Epoch 1/5\n",
            "446/446 [==============================] - 293s 657ms/step - loss: 0.8876 - acc: 0.6606 - val_loss: 0.6327 - val_acc: 0.9028\n",
            "Epoch 2/5\n",
            "446/446 [==============================] - 293s 657ms/step - loss: 0.6396 - acc: 0.9083 - val_loss: 0.6191 - val_acc: 0.9331\n",
            "Epoch 3/5\n",
            "446/446 [==============================] - 293s 658ms/step - loss: 0.6422 - acc: 0.9066 - val_loss: 0.6185 - val_acc: 0.9331\n",
            "Epoch 4/5\n",
            "446/446 [==============================] - 293s 658ms/step - loss: 0.6360 - acc: 0.9120 - val_loss: 0.6306 - val_acc: 0.9205\n",
            "Epoch 5/5\n",
            "446/446 [==============================] - 293s 657ms/step - loss: 0.6331 - acc: 0.9160 - val_loss: 0.6312 - val_acc: 0.9230\n",
            "28/28 [==============================] - 8s 294ms/step - loss: 0.6464 - acc: 0.9000\n"
          ],
          "name": "stdout"
        },
        {
          "output_type": "stream",
          "text": [
            "314it [00:00, 3136.55it/s]"
          ],
          "name": "stderr"
        },
        {
          "output_type": "stream",
          "text": [
            "Fold  6 Random number for split 1669\n",
            "\n"
          ],
          "name": "stdout"
        },
        {
          "output_type": "stream",
          "text": [
            "7913it [00:02, 3305.72it/s]\n",
            "880it [00:00, 3260.12it/s]\n"
          ],
          "name": "stderr"
        },
        {
          "output_type": "stream",
          "text": [
            "max seq_len 135\n",
            "Epoch 1/5\n",
            "446/446 [==============================] - 293s 657ms/step - loss: 0.8022 - acc: 0.7458 - val_loss: 0.6434 - val_acc: 0.9066\n",
            "Epoch 2/5\n",
            "446/446 [==============================] - 292s 656ms/step - loss: 0.6450 - acc: 0.9049 - val_loss: 0.6791 - val_acc: 0.8699\n",
            "Epoch 3/5\n",
            "446/446 [==============================] - 293s 658ms/step - loss: 0.6423 - acc: 0.9054 - val_loss: 0.6492 - val_acc: 0.9003\n",
            "Epoch 4/5\n",
            "446/446 [==============================] - 293s 657ms/step - loss: 0.6437 - acc: 0.9065 - val_loss: 0.6515 - val_acc: 0.9003\n",
            "Epoch 5/5\n",
            "446/446 [==============================] - 293s 658ms/step - loss: 0.6432 - acc: 0.9056 - val_loss: 0.6426 - val_acc: 0.9066\n",
            "28/28 [==============================] - 8s 293ms/step - loss: 0.6418 - acc: 0.9080\n"
          ],
          "name": "stdout"
        },
        {
          "output_type": "stream",
          "text": [
            "300it [00:00, 2996.53it/s]"
          ],
          "name": "stderr"
        },
        {
          "output_type": "stream",
          "text": [
            "Fold  7 Random number for split 2518\n",
            "\n"
          ],
          "name": "stdout"
        },
        {
          "output_type": "stream",
          "text": [
            "7913it [00:02, 3246.09it/s]\n",
            "880it [00:00, 3285.18it/s]\n"
          ],
          "name": "stderr"
        },
        {
          "output_type": "stream",
          "text": [
            "max seq_len 135\n",
            "Epoch 1/5\n",
            "446/446 [==============================] - 294s 659ms/step - loss: 1.0797 - acc: 0.4668 - val_loss: 0.6322 - val_acc: 0.9192\n",
            "Epoch 2/5\n",
            "446/446 [==============================] - 294s 659ms/step - loss: 0.6452 - acc: 0.9063 - val_loss: 0.6295 - val_acc: 0.9217\n",
            "Epoch 3/5\n",
            "446/446 [==============================] - 295s 661ms/step - loss: 0.6393 - acc: 0.9118 - val_loss: 0.6333 - val_acc: 0.9167\n",
            "Epoch 4/5\n",
            "446/446 [==============================] - 295s 661ms/step - loss: 0.6553 - acc: 0.8950 - val_loss: 0.6360 - val_acc: 0.9154\n",
            "Epoch 5/5\n",
            "446/446 [==============================] - 295s 661ms/step - loss: 0.6480 - acc: 0.9018 - val_loss: 0.6500 - val_acc: 0.9003\n",
            "28/28 [==============================] - 8s 293ms/step - loss: 0.6497 - acc: 0.8977\n"
          ],
          "name": "stdout"
        },
        {
          "output_type": "stream",
          "text": [
            "312it [00:00, 3112.22it/s]"
          ],
          "name": "stderr"
        },
        {
          "output_type": "stream",
          "text": [
            "Fold  8 Random number for split 529\n",
            "\n"
          ],
          "name": "stdout"
        },
        {
          "output_type": "stream",
          "text": [
            "7913it [00:02, 3237.02it/s]\n",
            "880it [00:00, 3335.56it/s]\n"
          ],
          "name": "stderr"
        },
        {
          "output_type": "stream",
          "text": [
            "max seq_len 135\n",
            "Epoch 1/5\n",
            "446/446 [==============================] - 295s 662ms/step - loss: 0.8125 - acc: 0.7332 - val_loss: 0.6355 - val_acc: 0.9167\n",
            "Epoch 2/5\n",
            "446/446 [==============================] - 295s 661ms/step - loss: 0.6421 - acc: 0.9066 - val_loss: 0.6429 - val_acc: 0.8914\n",
            "Epoch 3/5\n",
            "446/446 [==============================] - 296s 663ms/step - loss: 0.6368 - acc: 0.9098 - val_loss: 0.6302 - val_acc: 0.9230\n",
            "Epoch 4/5\n",
            "446/446 [==============================] - 296s 663ms/step - loss: 0.6325 - acc: 0.9141 - val_loss: 0.6310 - val_acc: 0.9242\n",
            "Epoch 5/5\n",
            "446/446 [==============================] - 295s 662ms/step - loss: 0.6316 - acc: 0.9149 - val_loss: 0.6342 - val_acc: 0.9167\n",
            "28/28 [==============================] - 8s 294ms/step - loss: 0.6404 - acc: 0.9091\n"
          ],
          "name": "stdout"
        },
        {
          "output_type": "stream",
          "text": [
            "274it [00:00, 2738.77it/s]"
          ],
          "name": "stderr"
        },
        {
          "output_type": "stream",
          "text": [
            "Fold  9 Random number for split 1585\n",
            "\n"
          ],
          "name": "stdout"
        },
        {
          "output_type": "stream",
          "text": [
            "7913it [00:02, 3131.83it/s]\n",
            "880it [00:00, 3240.45it/s]\n"
          ],
          "name": "stderr"
        },
        {
          "output_type": "stream",
          "text": [
            "max seq_len 135\n",
            "Epoch 1/5\n",
            "446/446 [==============================] - 297s 665ms/step - loss: 0.8737 - acc: 0.6708 - val_loss: 0.6209 - val_acc: 0.9306\n",
            "Epoch 2/5\n",
            "446/446 [==============================] - 297s 666ms/step - loss: 0.6348 - acc: 0.9141 - val_loss: 0.6194 - val_acc: 0.9306\n",
            "Epoch 3/5\n",
            "446/446 [==============================] - 296s 664ms/step - loss: 0.6308 - acc: 0.9183 - val_loss: 0.6196 - val_acc: 0.9306\n",
            "Epoch 4/5\n",
            "446/446 [==============================] - 295s 663ms/step - loss: 0.6258 - acc: 0.9235 - val_loss: 0.6219 - val_acc: 0.9293\n",
            "Epoch 5/5\n",
            "446/446 [==============================] - 296s 664ms/step - loss: 0.6271 - acc: 0.9239 - val_loss: 0.6246 - val_acc: 0.9255\n",
            "28/28 [==============================] - 8s 294ms/step - loss: 0.6372 - acc: 0.9102\n"
          ],
          "name": "stdout"
        },
        {
          "output_type": "stream",
          "text": [
            "311it [00:00, 3105.05it/s]"
          ],
          "name": "stderr"
        },
        {
          "output_type": "stream",
          "text": [
            "Fold  10 Random number for split 3719\n",
            "\n"
          ],
          "name": "stdout"
        },
        {
          "output_type": "stream",
          "text": [
            "7913it [00:02, 3221.91it/s]\n",
            "880it [00:00, 3086.76it/s]\n"
          ],
          "name": "stderr"
        },
        {
          "output_type": "stream",
          "text": [
            "max seq_len 135\n",
            "Epoch 1/5\n",
            "446/446 [==============================] - 296s 665ms/step - loss: 1.0509 - acc: 0.4978 - val_loss: 0.9972 - val_acc: 0.5505\n",
            "Epoch 2/5\n",
            "446/446 [==============================] - 296s 664ms/step - loss: 0.8097 - acc: 0.7388 - val_loss: 0.6279 - val_acc: 0.9205\n",
            "Epoch 3/5\n",
            "446/446 [==============================] - 296s 663ms/step - loss: 0.6329 - acc: 0.9160 - val_loss: 0.6332 - val_acc: 0.9154\n",
            "Epoch 4/5\n",
            "446/446 [==============================] - 296s 663ms/step - loss: 0.6320 - acc: 0.9163 - val_loss: 0.6271 - val_acc: 0.9192\n",
            "Epoch 5/5\n",
            "446/446 [==============================] - 296s 663ms/step - loss: 0.6273 - acc: 0.9208 - val_loss: 0.6276 - val_acc: 0.9217\n",
            "28/28 [==============================] - 8s 294ms/step - loss: 0.6135 - acc: 0.9364\n"
          ],
          "name": "stdout"
        }
      ]
    },
    {
      "cell_type": "code",
      "metadata": {
        "id": "RYtq3EIqeqPk",
        "colab_type": "code",
        "colab": {
          "base_uri": "https://localhost:8080/",
          "height": 67
        },
        "outputId": "cf7babeb-8b04-4958-fd80-0ec696cfb533"
      },
      "source": [
        "\n",
        "print('')\n",
        "Mean_score = sum(scores) / len(scores)\n",
        "print(f\" Mean predict: {Mean_score}\" )\n",
        "\n",
        "mean_test = sum(testing_accuracy)/len(testing_accuracy)\n",
        "print(f\" Mean testing accuracy for 10 folds: {mean_test}\" )"
      ],
      "execution_count": 69,
      "outputs": [
        {
          "output_type": "stream",
          "text": [
            "\n",
            " Mean predict: 0.9030681818181818\n",
            " Mean testing accuracy for 10 folds: 0.9030681848526001\n"
          ],
          "name": "stdout"
        }
      ]
    },
    {
      "cell_type": "code",
      "metadata": {
        "id": "6Feyo0ULAmEW",
        "colab_type": "code",
        "colab": {
          "base_uri": "https://localhost:8080/",
          "height": 84
        },
        "outputId": "2691765b-3206-4ce4-f007-e105e29faf43"
      },
      "source": [
        "sentences = [\n",
        "  \"Play our song now you asshole jehadi muslim\",\n",
        "  \"Rate this book as awful\"\n",
        "]\n",
        "\n",
        "pred_tokens = map(tokenizer.tokenize, sentences)\n",
        "pred_tokens = map(lambda tok: [\"[CLS]\"] + tok + [\"[SEP]\"], pred_tokens)\n",
        "pred_token_ids = list(map(tokenizer.convert_tokens_to_ids, pred_tokens))\n",
        "\n",
        "pred_token_ids = map(lambda tids: tids +[0]*(data.max_seq_len-len(tids)),pred_token_ids)\n",
        "pred_token_ids = np.array(list(pred_token_ids))\n",
        "\n",
        "predictions = model.predict(pred_token_ids).argmax(axis=-1)\n",
        "\n",
        "for text, label in zip(sentences, predictions):\n",
        "  print(\"text:\", text, \"Label:\", classes[label])\n",
        "  print()"
      ],
      "execution_count": 71,
      "outputs": [
        {
          "output_type": "stream",
          "text": [
            "text: Play our song now you asshole jehadi muslim Label: 2\n",
            "\n",
            "text: Rate this book as awful Label: 0\n",
            "\n"
          ],
          "name": "stdout"
        }
      ]
    }
  ]
}